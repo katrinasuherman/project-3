{
 "cells": [
  {
   "cell_type": "code",
   "execution_count": 7,
   "id": "594eade1",
   "metadata": {},
   "outputs": [],
   "source": [
    "import pandas as pd\n",
    "\n",
    "df = pd.read_csv(\"data.csv\")\n",
    "df['surgery_time_hours'] = (df['opend'] - df['opstart'])/3600\n",
    "\n",
    "df.columns\n",
    "df = df[[\"approach\", \"surgery_time_hours\",\"bmi\", \"intraop_ebl\", \"death_inhosp\",\"age\"]]\n",
    "\n",
    "\n"
   ]
  },
  {
   "cell_type": "code",
   "execution_count": null,
   "id": "2a959fa7",
   "metadata": {},
   "outputs": [],
   "source": [
    "df.to_json(\"cases.json\", orient=\"records\", indent=2)"
   ]
  },
  {
   "cell_type": "code",
   "execution_count": null,
   "id": "fd7d777d",
   "metadata": {},
   "outputs": [],
   "source": []
  }
 ],
 "metadata": {
  "kernelspec": {
   "display_name": "dsc80",
   "language": "python",
   "name": "python3"
  },
  "language_info": {
   "codemirror_mode": {
    "name": "ipython",
    "version": 3
   },
   "file_extension": ".py",
   "mimetype": "text/x-python",
   "name": "python",
   "nbconvert_exporter": "python",
   "pygments_lexer": "ipython3",
   "version": "3.12.8"
  }
 },
 "nbformat": 4,
 "nbformat_minor": 5
}
